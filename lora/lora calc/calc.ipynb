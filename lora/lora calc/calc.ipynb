{
 "cells": [
  {
   "cell_type": "code",
   "execution_count": 9,
   "metadata": {},
   "outputs": [
    {
     "name": "stdout",
     "output_type": "stream",
     "text": [
      "6.8359375 kbps\n",
      "0.3662109375 kbps\n"
     ]
    }
   ],
   "source": [
    "def bit_rate(Sf, Bw):\n",
    "    return ((Sf * Bw) / 2**Sf)\n",
    "#SF-7, BW-125KHz\n",
    "print(f\"{bit_rate(7, 125)} kbps\")\n",
    "print(f\"{bit_rate(12, 125)} kbps\")"
   ]
  },
  {
   "cell_type": "code",
   "execution_count": 14,
   "metadata": {},
   "outputs": [
    {
     "name": "stdout",
     "output_type": "stream",
     "text": [
      "5.46875 kbps\n"
     ]
    }
   ],
   "source": [
    "def bit_rate_CR (Sf, Bw, Cr):\n",
    "    return (((Sf * Bw) / (2**Sf)))/Cr\n",
    "\n",
    "print(f\"{bit_rate_CR(7, 125, 1.25)} kbps\")"
   ]
  },
  {
   "cell_type": "code",
   "execution_count": 28,
   "metadata": {},
   "outputs": [],
   "source": [
    "from math import ceil\n",
    "\n",
    "def toa(npre, PHY, SF, H, DE, CR):\n",
    "    return (npre + (8 * (PHY + 4) + 8 + max(ceil((8 * (PHY + 4) - 4 * SF + 28 + 16 - 20 * H) / (4 * (SF - 2 * DE)) * (CR + 4)), 0)))\n"
   ]
  },
  {
   "cell_type": "code",
   "execution_count": 35,
   "metadata": {},
   "outputs": [
    {
     "name": "stdout",
     "output_type": "stream",
     "text": [
      "194.56 ms\n"
     ]
    }
   ],
   "source": [
    "from math import ceil\n",
    "nsym = toa(8,14,7,0,0,1.25)\n",
    "TOA = nsym * 7/bit_rate(7, 125)\n",
    "print(f\"{TOA} ms\")"
   ]
  },
  {
   "cell_type": "code",
   "execution_count": null,
   "metadata": {},
   "outputs": [],
   "source": []
  }
 ],
 "metadata": {
  "kernelspec": {
   "display_name": "Python 3",
   "language": "python",
   "name": "python3"
  },
  "language_info": {
   "codemirror_mode": {
    "name": "ipython",
    "version": 3
   },
   "file_extension": ".py",
   "mimetype": "text/x-python",
   "name": "python",
   "nbconvert_exporter": "python",
   "pygments_lexer": "ipython3",
   "version": "3.11.5"
  }
 },
 "nbformat": 4,
 "nbformat_minor": 2
}
